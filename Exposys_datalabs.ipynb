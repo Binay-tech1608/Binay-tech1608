{
  "nbformat": 4,
  "nbformat_minor": 0,
  "metadata": {
    "colab": {
      "provenance": [],
      "gpuType": "T4",
      "mount_file_id": "1wEvzoiL1zr5jV5zhMuQFplpGDObkNjRG",
      "authorship_tag": "ABX9TyNMQHVJk8/1x1LI2ItWGmBI",
      "include_colab_link": true
    },
    "kernelspec": {
      "name": "python3",
      "display_name": "Python 3"
    },
    "language_info": {
      "name": "python"
    },
    "accelerator": "GPU"
  },
  "cells": [
    {
      "cell_type": "markdown",
      "metadata": {
        "id": "view-in-github",
        "colab_type": "text"
      },
      "source": [
        "<a href=\"https://colab.research.google.com/github/Binay-tech1608/Binay-tech1608/blob/main/Exposys_datalabs.ipynb\" target=\"_parent\"><img src=\"https://colab.research.google.com/assets/colab-badge.svg\" alt=\"Open In Colab\"/></a>"
      ]
    },
    {
      "cell_type": "code",
      "source": [
        "import pandas as pd\n",
        "from sklearn.model_selection import train_test_split\n",
        "from sklearn.linear_model import LinearRegression\n",
        "from sklearn.metrics import mean_squared_error, r2_score, mean_absolute_error, explained_variance_score,mean_squared_error, mean_squared_log_error\n",
        "\n",
        "# Load the dataset\n",
        "data = pd.read_csv(\"/content/drive/MyDrive/Colab Notebooks/50_Startups.csv\")\n",
        "data.dropna()\n",
        "\n",
        "# Split the data into features (x) and target variable (y)\n",
        "x = data.drop(\"Profit\", axis=1)\n",
        "y = data[\"Profit\"].values #profit is our target margin\n",
        "\n",
        "\n",
        "# Split the data into training and testing sets\n",
        "x_train, x_test, y_train, y_test = train_test_split(x, y, test_size=0.2, random_state=42)\n",
        "\n",
        "# Use Linear Regression\n",
        "model = LinearRegression()\n",
        "model.fit(x_train, y_train)\n",
        "\n",
        "# Make predictions\n",
        "y_pred = model.predict(x_test)\n",
        "\n",
        "# Evaluate the model\n",
        "mse = mean_squared_error(y_test, y_pred)\n",
        "mae = mean_absolute_error(y_test, y_pred)\n",
        "r2 = r2_score(y_test, y_pred)\n",
        "explained_var = explained_variance_score(y_test, y_pred)\n",
        "mean_squared_error = mean_squared_error(y_test, y_pred)\n",
        "mean_squared_log_error = mean_squared_log_error(y_test, y_pred)\n",
        "\n",
        "print(f'Mean Squared Error: {mse}')\n",
        "print(f'Mean Absolute Error: {mae}')\n",
        "print(\"R-squared (accuracy): \", r2)\n",
        "print(\"Explained Variance: \", explained_var)\n",
        "print(\"R-squared percentage: \", r2 * 100)\n",
        "print(\"Mean Squared Error: \", mean_squared_error)\n",
        "print(\"Mean Squared Log Error: \", mean_squared_log_error)"
      ],
      "metadata": {
        "id": "QwD7-V2ZB9G_",
        "outputId": "0e885c51-f11a-40d4-c5a2-3d7efc229301",
        "colab": {
          "base_uri": "https://localhost:8080/"
        }
      },
      "execution_count": 23,
      "outputs": [
        {
          "output_type": "stream",
          "name": "stdout",
          "text": [
            "Mean Squared Error: 80926321.22295158\n",
            "Mean Absolute Error: 6979.152252370402\n",
            "R-squared (accuracy):  0.9000653083037321\n",
            "Explained Variance:  0.9035288469713902\n",
            "R-squared percentage:  90.00653083037321\n",
            "Mean Squared Error:  80926321.22295158\n",
            "Mean Squared Log Error:  0.02572138240307621\n"
          ]
        }
      ]
    },
    {
      "cell_type": "code",
      "source": [
        "import pandas as pd\n",
        "from sklearn.model_selection import train_test_split\n",
        "from sklearn.svm import SVR\n",
        "from sklearn.metrics import mean_squared_error, r2_score, mean_absolute_error, explained_variance_score, mean_squared_log_error\n",
        "\n",
        "# Load the dataset\n",
        "data = pd.read_csv(\"/content/drive/MyDrive/Colab Notebooks/50_Startups.csv\")\n",
        "data.dropna()\n",
        "\n",
        "# Split the data into features (x) and target variable (y)\n",
        "x = data.drop(\"Profit\", axis=1)\n",
        "y = data[\"Profit\"].values\n",
        "\n",
        "# Split the data into training and testing sets\n",
        "x_train, x_test, y_train, y_test = train_test_split(x, y, test_size=0.2, random_state=42)\n",
        "\n",
        "# Replace Linear Regression with Support Vector Regression (SVR)\n",
        "model = SVR(kernel='linear')  # You can choose different kernels like 'linear', 'rbf', etc.\n",
        "\n",
        "# Fit the model\n",
        "model.fit(x_train, y_train)\n",
        "\n",
        "# Make predictions\n",
        "y_pred = model.predict(x_test)\n",
        "\n",
        "# Evaluate the model\n",
        "mse = mean_squared_error(y_test, y_pred)\n",
        "mae = mean_absolute_error(y_test, y_pred)\n",
        "r2 = r2_score(y_test, y_pred)\n",
        "explained_var = explained_variance_score(y_test, y_pred)\n",
        "mse = mean_squared_error(y_test, y_pred)\n",
        "mse_log = mean_squared_log_error(y_test, y_pred)\n",
        "\n",
        "print(f'Mean Squared Error: {mse}')\n",
        "print(f'Mean Absolute Error: {mae}')\n",
        "print(\"R-squared (accuracy): \", r2)\n",
        "print(\"Explained Variance: \", explained_var)\n",
        "print(\"R-squared percentage: \", r2 * 100)\n",
        "print(\"Mean Squared Error: \", mse)\n",
        "print(\"Mean Squared Log Error: \", mse_log)\n"
      ],
      "metadata": {
        "colab": {
          "base_uri": "https://localhost:8080/"
        },
        "id": "eZVnxgi6wsXg",
        "outputId": "4c6dbd79-2374-4497-ecdf-d33be2802a3d"
      },
      "execution_count": 12,
      "outputs": [
        {
          "output_type": "stream",
          "name": "stdout",
          "text": [
            "Mean Squared Error: 103832131.51406816\n",
            "Mean Absolute Error: 7702.6232454934825\n",
            "R-squared (accuracy):  0.8717792691646302\n",
            "Explained Variance:  0.9010723614424225\n",
            "R-squared percentage:  87.17792691646302\n",
            "Mean Squared Error:  103832131.51406816\n",
            "Mean Squared Log Error:  0.029405587300442727\n"
          ]
        }
      ]
    },
    {
      "cell_type": "code",
      "source": [
        "import pandas as pd\n",
        "from sklearn.model_selection import train_test_split\n",
        "from sklearn.linear_model import Lasso\n",
        "from sklearn.metrics import mean_squared_error, r2_score, mean_absolute_error, explained_variance_score, mean_squared_log_error\n",
        "\n",
        "# Load the dataset\n",
        "data = pd.read_csv(\"/content/drive/MyDrive/Colab Notebooks/50_Startups.csv\")\n",
        "data.dropna()\n",
        "\n",
        "# Split the data into features (x) and target variable (y)\n",
        "x = data.drop(\"Profit\", axis=1)\n",
        "y = data[\"Profit\"].values\n",
        "\n",
        "# Split the data into training and testing sets\n",
        "x_train, x_test, y_train, y_test = train_test_split(x, y, test_size=0.2, random_state=42)\n",
        "\n",
        "# Replace Support Vector Regression (SVR) with Lasso Regression\n",
        "model = Lasso(alpha=1.0)  # You can adjust the alpha parameter for regularization strength\n",
        "\n",
        "# Fit the model\n",
        "model.fit(x_train, y_train)\n",
        "\n",
        "# Make predictions\n",
        "y_pred = model.predict(x_test)\n",
        "\n",
        "# Evaluate the model\n",
        "mse = mean_squared_error(y_test, y_pred)\n",
        "mae = mean_absolute_error(y_test, y_pred)\n",
        "r2 = r2_score(y_test, y_pred)\n",
        "explained_var = explained_variance_score(y_test, y_pred)\n",
        "mse = mean_squared_error(y_test, y_pred)\n",
        "mse_log = mean_squared_log_error(y_test, y_pred)\n",
        "\n",
        "print(f'Mean Squared Error: {mse}')\n",
        "print(f'Mean Absolute Error: {mae}')\n",
        "print(\"R-squared (accuracy): \", r2)\n",
        "print(\"Explained Variance: \", explained_var)\n",
        "print(\"R-squared percentage: \", r2 * 100)\n",
        "print(\"Mean Squared Error: \", mse)\n",
        "print(\"Mean Squared Log Error: \", mse_log)\n"
      ],
      "metadata": {
        "colab": {
          "base_uri": "https://localhost:8080/"
        },
        "id": "3s2vs5Jey6Vb",
        "outputId": "97302127-0b4c-4f6a-b9ab-7ce3d154f620"
      },
      "execution_count": 14,
      "outputs": [
        {
          "output_type": "stream",
          "name": "stdout",
          "text": [
            "Mean Squared Error: 80926320.76116827\n",
            "Mean Absolute Error: 6979.152235475119\n",
            "R-squared (accuracy):  0.9000653088739813\n",
            "Explained Variance:  0.9035288474534698\n",
            "R-squared percentage:  90.00653088739813\n",
            "Mean Squared Error:  80926320.76116827\n",
            "Mean Squared Log Error:  0.025721382291390545\n"
          ]
        }
      ]
    },
    {
      "cell_type": "code",
      "source": [
        "import pandas as pd\n",
        "from sklearn.model_selection import train_test_split\n",
        "from sklearn.neural_network import MLPRegressor #neural network regressor model\n",
        "from sklearn.metrics import mean_squared_error, r2_score, mean_absolute_error, explained_variance_score, mean_squared_log_error\n",
        "\n",
        "# Load the dataset\n",
        "data = pd.read_csv(\"/content/drive/MyDrive/Colab Notebooks/50_Startups.csv\")\n",
        "data.dropna()\n",
        "\n",
        "# Split the data into features (x) and target variable (y)\n",
        "x = data.drop(\"Profit\", axis=1)\n",
        "y = data[\"Profit\"].values\n",
        "\n",
        "# Split the data into training and testing sets\n",
        "x_train, x_test, y_train, y_test = train_test_split(x, y, test_size=0.2, random_state=42)\n",
        "\n",
        "# Replace Lasso Regression with Neural Network Regression\n",
        "model = MLPRegressor(hidden_layer_sizes=(10,), max_iter=1000, random_state=42)\n",
        "# You can adjust hyperparameters like hidden_layer_sizes, max_iter, etc.\n",
        "\n",
        "# Fit the model\n",
        "model.fit(x_train, y_train)\n",
        "\n",
        "# Make predictions\n",
        "y_pred = model.predict(x_test)\n",
        "\n",
        "# Evaluate the model\n",
        "mse = mean_squared_error(y_test, y_pred)\n",
        "mae = mean_absolute_error(y_test, y_pred)\n",
        "r2 = r2_score(y_test, y_pred)\n",
        "explained_var = explained_variance_score(y_test, y_pred)\n",
        "mse = mean_squared_error(y_test, y_pred)\n",
        "mse_log = mean_squared_log_error(y_test, y_pred)\n",
        "\n",
        "print(f'Mean Squared Error: {mse}')\n",
        "print(f'Mean Absolute Error: {mae}')\n",
        "print(\"R-squared (accuracy): \", r2)\n",
        "print(\"Explained Variance: \", explained_var)\n",
        "print(\"R-squared percentage: \", r2 * 100)\n",
        "print(\"Mean Squared Error: \", mse)\n",
        "print(\"Mean Squared Log Error: \", mse_log)\n"
      ],
      "metadata": {
        "colab": {
          "base_uri": "https://localhost:8080/"
        },
        "id": "5IG9955szNvm",
        "outputId": "677be914-4572-4d42-ac12-6f5414c60229"
      },
      "execution_count": 24,
      "outputs": [
        {
          "output_type": "stream",
          "name": "stdout",
          "text": [
            "Mean Squared Error: 273932805.83083653\n",
            "Mean Absolute Error: 14074.197882528417\n",
            "R-squared (accuracy):  0.6617245158002523\n",
            "Explained Variance:  0.8264681811109953\n",
            "R-squared percentage:  66.17245158002522\n",
            "Mean Squared Error:  273932805.83083653\n",
            "Mean Squared Log Error:  0.11648705674299276\n"
          ]
        },
        {
          "output_type": "stream",
          "name": "stderr",
          "text": [
            "/usr/local/lib/python3.10/dist-packages/sklearn/neural_network/_multilayer_perceptron.py:686: ConvergenceWarning: Stochastic Optimizer: Maximum iterations (1000) reached and the optimization hasn't converged yet.\n",
            "  warnings.warn(\n"
          ]
        }
      ]
    },
    {
      "cell_type": "code",
      "source": [
        "import pandas as pd\n",
        "from sklearn.model_selection import train_test_split\n",
        "from sklearn.neighbors import KNeighborsRegressor #K nearest neighbors regressor model\n",
        "from sklearn.metrics import mean_squared_error, r2_score, mean_absolute_error, explained_variance_score, mean_squared_log_error\n",
        "\n",
        "# Load the dataset\n",
        "data = pd.read_csv(\"/content/drive/MyDrive/Colab Notebooks/50_Startups.csv\")\n",
        "data.dropna()\n",
        "\n",
        "# Split the data into features (x) and target variable (y)\n",
        "x = data.drop(\"Profit\", axis=1)\n",
        "y = data[\"Profit\"].values\n",
        "\n",
        "# Split the data into training and testing sets\n",
        "x_train, x_test, y_train, y_test = train_test_split(x, y, test_size=0.2, random_state=42)\n",
        "\n",
        "# Replace Neural Network Regression with k-Nearest Neighbors (KNN) Regression\n",
        "model = KNeighborsRegressor(n_neighbors=4)  # You can adjust the number of neighbors (n_neighbors)\n",
        "\n",
        "# Fit the model\n",
        "model.fit(x_train, y_train)\n",
        "\n",
        "# Make predictions\n",
        "y_pred = model.predict(x_test)\n",
        "\n",
        "# Evaluate the model\n",
        "mse = mean_squared_error(y_test, y_pred)\n",
        "mae = mean_absolute_error(y_test, y_pred)\n",
        "r2 = r2_score(y_test, y_pred)\n",
        "explained_var = explained_variance_score(y_test, y_pred)\n",
        "mse = mean_squared_error(y_test, y_pred)\n",
        "mse_log = mean_squared_log_error(y_test, y_pred)\n",
        "\n",
        "print(f'Mean Squared Error: {mse}')\n",
        "print(f'Mean Absolute Error: {mae}')\n",
        "print(\"R-squared (accuracy): \", r2)\n",
        "print(\"Explained Variance: \", explained_var)\n",
        "print(\"R-squared percentage: \", r2 * 100)\n",
        "print(\"Mean Squared Error: \", mse)\n",
        "print(\"Mean Squared Log Error: \", mse_log)\n"
      ],
      "metadata": {
        "colab": {
          "base_uri": "https://localhost:8080/"
        },
        "id": "b8KBMrQn0GFj",
        "outputId": "cd8fdab3-8bd5-4418-8212-aeee0a7b10b2"
      },
      "execution_count": 27,
      "outputs": [
        {
          "output_type": "stream",
          "name": "stdout",
          "text": [
            "Mean Squared Error: 469679292.3845151\n",
            "Mean Absolute Error: 13673.155500000004\n",
            "R-squared (accuracy):  0.4200001362812983\n",
            "Explained Variance:  0.5707464562640066\n",
            "R-squared percentage:  42.00001362812983\n",
            "Mean Squared Error:  469679292.3845151\n",
            "Mean Squared Log Error:  0.07295926277011525\n"
          ]
        }
      ]
    },
    {
      "cell_type": "code",
      "source": [
        "import pandas as pd\n",
        "from sklearn.model_selection import train_test_split\n",
        "from sklearn.ensemble import RandomForestRegressor\n",
        "from sklearn.metrics import mean_squared_error, r2_score, mean_absolute_error, explained_variance_score, mean_squared_log_error\n",
        "\n",
        "# Load the dataset\n",
        "data = pd.read_csv(\"/content/drive/MyDrive/Colab Notebooks/50_Startups.csv\")\n",
        "data.dropna()\n",
        "\n",
        "# Split the data into features (x) and target variable (y)\n",
        "x = data.drop(\"Profit\", axis=1)\n",
        "y = data[\"Profit\"].values\n",
        "\n",
        "# Split the data into training and testing sets\n",
        "x_train, x_test, y_train, y_test = train_test_split(x, y, test_size=0.2, random_state=42)\n",
        "\n",
        "# Replace k-Nearest Neighbors (KNN) Regression with Random Forest Regression\n",
        "model = RandomForestRegressor(n_estimators=100, random_state=42)  # You can adjust the number of trees (n_estimators)\n",
        "\n",
        "# Fit the model\n",
        "model.fit(x_train, y_train)\n",
        "\n",
        "# Make predictions\n",
        "y_pred = model.predict(x_test)\n",
        "\n",
        "# Evaluate the model\n",
        "mse = mean_squared_error(y_test, y_pred)\n",
        "mae = mean_absolute_error(y_test, y_pred)\n",
        "r2 = r2_score(y_test, y_pred)\n",
        "explained_var = explained_variance_score(y_test, y_pred)\n",
        "mse = mean_squared_error(y_test, y_pred)\n",
        "mse_log = mean_squared_log_error(y_test, y_pred)\n",
        "\n",
        "print(f'Mean Squared Error: {mse}')\n",
        "print(f'Mean Absolute Error: {mae}')\n",
        "print(\"R-squared (accuracy): \", r2)\n",
        "print(\"Explained Variance: \", explained_var)\n",
        "print(\"R-squared percentage: \", r2 * 100)\n",
        "print(\"Mean Squared Error: \", mse)\n",
        "print(\"Mean Squared Log Error: \", mse_log)\n"
      ],
      "metadata": {
        "colab": {
          "base_uri": "https://localhost:8080/"
        },
        "id": "FRz9hUYF0VGY",
        "outputId": "41043e57-b8c2-4128-eb91-01f749f4cdea"
      },
      "execution_count": 17,
      "outputs": [
        {
          "output_type": "stream",
          "name": "stdout",
          "text": [
            "Mean Squared Error: 72625008.62306513\n",
            "Mean Absolute Error: 6437.497739999977\n",
            "R-squared (accuracy):  0.9103164738430438\n",
            "Explained Variance:  0.9121542131235096\n",
            "R-squared percentage:  91.03164738430438\n",
            "Mean Squared Error:  72625008.62306513\n",
            "Mean Squared Log Error:  0.018918402267552027\n"
          ]
        }
      ]
    },
    {
      "cell_type": "code",
      "source": [],
      "metadata": {
        "id": "DiRf0sRP0pQC"
      },
      "execution_count": null,
      "outputs": []
    }
  ]
}